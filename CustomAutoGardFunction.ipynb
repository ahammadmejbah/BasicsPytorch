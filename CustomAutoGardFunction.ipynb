{
 "cells": [
  {
   "cell_type": "code",
   "execution_count": 1,
   "id": "5390e624-8a3e-4a30-869e-e855402fd9c0",
   "metadata": {},
   "outputs": [],
   "source": [
    "import torch\n",
    "import math"
   ]
  },
  {
   "cell_type": "code",
   "execution_count": 3,
   "id": "c6cdfa34-ee6b-4889-bf2a-dcdc7c279d41",
   "metadata": {},
   "outputs": [],
   "source": [
    "class legendrePolynomial3(torch.autograd.Function):\n",
    "    @staticmethod\n",
    "    def forward(ctx, input):\n",
    "        ctx.save_for_backward(input)\n",
    "        return 0.5*(5* input**3 - 3*input)\n",
    "    \n",
    "    @staticmethod\n",
    "    def backward(ctx, grad_output):\n",
    "        input, = ctx.saved_tensors\n",
    "        return grad_output * 1.5 * (5 * input **2 -1)"
   ]
  },
  {
   "cell_type": "code",
   "execution_count": 4,
   "id": "b74b93e6-1dc5-4f47-a7cc-0c799ab7396b",
   "metadata": {},
   "outputs": [],
   "source": [
    "dtype = torch.float\n",
    "device = torch.device(\"cuda:0\")"
   ]
  },
  {
   "cell_type": "code",
   "execution_count": 5,
   "id": "d9ed6e85-6560-4139-8ea3-a76e0d56df65",
   "metadata": {},
   "outputs": [],
   "source": [
    "x = torch.linspace(-math.pi, math.pi, 2000, dtype = torch.float,device = device)\n",
    "y = torch.sin(x)"
   ]
  },
  {
   "cell_type": "code",
   "execution_count": 6,
   "id": "30b5c110-12ff-47f8-866f-f8ba5a31567e",
   "metadata": {},
   "outputs": [],
   "source": [
    "a = torch.full((),0.0, device = device, dtype=  dtype, requires_grad = True)\n",
    "b = torch.full((),-1.0, device = device, dtype=  dtype, requires_grad = True)\n",
    "c = torch.full((),0.0, device = device, dtype=  dtype, requires_grad = True)\n",
    "d = torch.full((),0.3, device = device, dtype=  dtype, requires_grad = True)"
   ]
  },
  {
   "cell_type": "code",
   "execution_count": 9,
   "id": "e4b20276-37ab-4bbe-a31c-38996e0252dd",
   "metadata": {},
   "outputs": [
    {
     "name": "stdout",
     "output_type": "stream",
     "text": [
      "99 66.23503112792969\n",
      "199 61.937660217285156\n",
      "299 57.963260650634766\n",
      "399 54.28733444213867\n",
      "499 50.88731384277344\n",
      "599 47.742374420166016\n",
      "699 44.83330535888672\n",
      "799 42.142276763916016\n",
      "899 39.65290832519531\n",
      "999 37.34986114501953\n",
      "1099 35.219364166259766\n",
      "1199 33.24830627441406\n",
      "1299 31.424734115600586\n",
      "1399 29.737539291381836\n",
      "1499 28.176536560058594\n",
      "1599 26.732240676879883\n",
      "1699 25.39589500427246\n",
      "1799 24.159400939941406\n",
      "1899 23.015254974365234\n",
      "1999 21.956523895263672\n",
      "Results y = 3.358735858882689e-11 + -1.9735198020935059 * p3(-4.7892217969192075e-11 + 0.2537434995174408 x)\n"
     ]
    }
   ],
   "source": [
    "learning_rate = 1e-6\n",
    "for i in range(2000):\n",
    "    p3 = legendrePolynomial3.apply\n",
    "    \n",
    "    y_pred = a + b * p3(c+d*x)\n",
    "    \n",
    "    loss = (y_pred - y).pow(2).sum()\n",
    "    if i%100 == 99:\n",
    "        print(i, loss.item())\n",
    "        \n",
    "    loss.backward()\n",
    "    \n",
    "    \n",
    "    with torch.no_grad():\n",
    "        \n",
    "        a-= learning_rate * a.grad\n",
    "        b-= learning_rate * b.grad\n",
    "        c-= learning_rate * c.grad\n",
    "        d -= learning_rate * d.grad\n",
    "        \n",
    "        \n",
    "        a.grad = None\n",
    "        b.grad = None\n",
    "        c.grad = None\n",
    "        d.grad = None\n",
    "        \n",
    "print(f\"Results y = {a.item()} + {b.item()} * p3({c.item()} + {d.item()} x)\")"
   ]
  },
  {
   "cell_type": "code",
   "execution_count": null,
   "id": "e4a1d343-b6e9-4634-b8a4-ec2b1fc3eaf6",
   "metadata": {},
   "outputs": [],
   "source": []
  }
 ],
 "metadata": {
  "kernelspec": {
   "display_name": "Python 3 (ipykernel)",
   "language": "python",
   "name": "python3"
  },
  "language_info": {
   "codemirror_mode": {
    "name": "ipython",
    "version": 3
   },
   "file_extension": ".py",
   "mimetype": "text/x-python",
   "name": "python",
   "nbconvert_exporter": "python",
   "pygments_lexer": "ipython3",
   "version": "3.7.13"
  }
 },
 "nbformat": 4,
 "nbformat_minor": 5
}
